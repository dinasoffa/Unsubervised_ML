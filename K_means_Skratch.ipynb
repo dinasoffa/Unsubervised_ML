{
  "nbformat": 4,
  "nbformat_minor": 0,
  "metadata": {
    "colab": {
      "provenance": [],
      "authorship_tag": "ABX9TyOQulHe3DPu1oNC/uNHi7ol",
      "include_colab_link": true
    },
    "kernelspec": {
      "name": "python3",
      "display_name": "Python 3"
    },
    "language_info": {
      "name": "python"
    }
  },
  "cells": [
    {
      "cell_type": "markdown",
      "metadata": {
        "id": "view-in-github",
        "colab_type": "text"
      },
      "source": [
        "<a href=\"https://colab.research.google.com/github/dinasoffa/Unsubervised_ML/blob/main/K_means_Skratch.ipynb\" target=\"_parent\"><img src=\"https://colab.research.google.com/assets/colab-badge.svg\" alt=\"Open In Colab\"/></a>"
      ]
    },
    {
      "cell_type": "code",
      "execution_count": null,
      "metadata": {
        "id": "nQO5n7EOOvvb"
      },
      "outputs": [],
      "source": [
        "import random\n",
        "import math\n",
        "import numpy as np\n",
        "import pandas as pd\n",
        "import matplotlib.pyplot as plt\n",
        "from scipy.spatial.distance import cdist \n",
        "from sklearn.datasets import load_digits\n",
        "from sklearn.decomposition import PCA\n",
        "from sklearn.cluster import KMeans\n",
        "import seaborn as sns\n",
        "from matplotlib.colors import ListedColormap\n"
      ]
    },
    {
      "cell_type": "code",
      "source": [
        "df = np.random.randint(0,200,(100,2))\n",
        "# data = np.random.normal(0,1,(100,2))\n",
        "plt.scatter(df[:,0],df[:,1])\n",
        "plt.show()"
      ],
      "metadata": {
        "id": "m9NkokzKO1f1",
        "colab": {
          "base_uri": "https://localhost:8080/",
          "height": 265
        },
        "outputId": "e6f7a316-0760-423a-eb17-bd042e52b680"
      },
      "execution_count": null,
      "outputs": [
        {
          "output_type": "display_data",
          "data": {
            "text/plain": [
              "<Figure size 432x288 with 1 Axes>"
            ],
            "image/png": "[encoded data removed]"
          },
          "metadata": {
            "needs_background": "light"
          }
        }
      ]
    },
    {
      "cell_type": "code",
      "source": [
        "df.shape"
      ],
      "metadata": {
        "colab": {
          "base_uri": "https://localhost:8080/"
        },
        "id": "DL-S0aaK1tHK",
        "outputId": "ad4928f6-f1bd-48ce-bc6a-598e4d46bad2"
      },
      "execution_count": null,
      "outputs": [
        {
          "output_type": "execute_result",
          "data": {
            "text/plain": [
              "(100, 2)"
            ]
          },
          "metadata": {},
          "execution_count": 82
        }
      ]
    },
    {
      "cell_type": "code",
      "source": [
        "x=df[0]\n",
        "y=df[1]"
      ],
      "metadata": {
        "id": "1vg6JMTm1K_H"
      },
      "execution_count": null,
      "outputs": []
    },
    {
      "cell_type": "code",
      "source": [],
      "metadata": {
        "id": "jMtotr2Umcyd"
      },
      "execution_count": null,
      "outputs": []
    },
    {
      "cell_type": "code",
      "source": [
        "len(df)"
      ],
      "metadata": {
        "colab": {
          "base_uri": "https://localhost:8080/"
        },
        "id": "0pTQlVhNmvRb",
        "outputId": "a1c88787-f65c-4b89-c752-e51d6bbd8172"
      },
      "execution_count": null,
      "outputs": [
        {
          "output_type": "execute_result",
          "data": {
            "text/plain": [
              "1797"
            ]
          },
          "metadata": {},
          "execution_count": 44
        }
      ]
    },
    {
      "cell_type": "code",
      "source": [
        "def euclidean(point, data):\n",
        "    \n",
        "    return np.sqrt(np.sum((point - data)**2, axis=1))"
      ],
      "metadata": {
        "id": "-rnkr1GhY45K"
      },
      "execution_count": null,
      "outputs": []
    },
    {
      "cell_type": "code",
      "source": [
        "def k_mean(df,k,no_of_iteration):\n",
        "  #initate the centroid\n",
        "  centroids = []\n",
        "  clusters_list=[]\n",
        "  loss=[]\n",
        "  for j in range(no_of_iteration):\n",
        "    centroid=[random.choice(df) for _ in range(k)]\n",
        "  #  for centroid in range(k):\n",
        "   #     centroid = np.random.uniform(df)\n",
        "    #    centroids.append(centroid)\n",
        "\n",
        "    prev_centroids=None\n",
        "    while np.not_equal(prev_centroids,centroid).any():    \n",
        "      sorted_points=[[] for _ in range(k)]\n",
        "      \n",
        "      for x in df:\n",
        "          dists = [ math.dist(x, c) for c in  centroid ]\n",
        "          #dists=cdist(df, centroids ,'euclidean')\n",
        "          #dists = euclidean(df, centroid)\n",
        "          centroid_idx = np.argmin(dists)\n",
        "          sorted_points[centroid_idx].append(x)\n",
        "\n",
        "      prev_centroids = centroid.copy()\n",
        "      # update of centroid\n",
        "      centroid = [np.mean(cluster, axis=0) for cluster in sorted_points]\n",
        "      for i, cen in enumerate(centroid):\n",
        "          if np.isnan(cen).any():  # Catch any np.nans, resulting from a centroid having no points\n",
        "              centroid[i] = prev_centroids[i]\n",
        "      \n",
        "\n",
        "    centroids.append(centroid)\n",
        "    clusters_list.append(sorted_points) \n",
        "\n",
        "\n",
        "    sum_error = 0\n",
        "    for i in range(k):\n",
        "      sum_error += np.sum(np.sum((centroid[i] - sorted_points[i])**2, axis=1))\n",
        "\n",
        "    j = 1/(len(df)) * sum_error\n",
        "    loss.append(j)    \n",
        "\n",
        "\n",
        "\n",
        "  min_index =  np.argmin(loss, axis=0)\n",
        "  best_cen = centroids[min_index]\n",
        "  best_clusters = clusters_list[min_index]\n",
        "  best_loss = min(loss)\n",
        "\n",
        "  return best_cen , best_clusters , best_loss "
      ],
      "metadata": {
        "id": "KfsbXC4iVUed"
      },
      "execution_count": null,
      "outputs": []
    },
    {
      "cell_type": "code",
      "source": [
        "k_mean(df,3,10)"
      ],
      "metadata": {
        "colab": {
          "base_uri": "https://localhost:8080/"
        },
        "id": "iQGU44Nzk_ud",
        "outputId": "ef516614-6715-4146-a865-3a7ee3e91492"
      },
      "execution_count": null,
      "outputs": [
        {
          "output_type": "execute_result",
          "data": {
            "text/plain": [
              "([array([156.15625, 152.5    ]),\n",
              "  array([ 51.14705882, 132.08823529]),\n",
              "  array([80.97058824, 32.17647059])],\n",
              " [[array([135, 112]),\n",
              "   array([192, 180]),\n",
              "   array([175, 192]),\n",
              "   array([139, 190]),\n",
              "   array([162, 178]),\n",
              "   array([125, 170]),\n",
              "   array([112, 186]),\n",
              "   array([186,  63]),\n",
              "   array([185, 158]),\n",
              "   array([197, 164]),\n",
              "   array([157, 168]),\n",
              "   array([129, 103]),\n",
              "   array([113, 111]),\n",
              "   array([138, 146]),\n",
              "   array([191, 106]),\n",
              "   array([168, 150]),\n",
              "   array([124, 181]),\n",
              "   array([153, 155]),\n",
              "   array([168,  83]),\n",
              "   array([187, 183]),\n",
              "   array([186, 130]),\n",
              "   array([166, 174]),\n",
              "   array([199, 104]),\n",
              "   array([172,  94]),\n",
              "   array([117, 140]),\n",
              "   array([175, 186]),\n",
              "   array([135, 188]),\n",
              "   array([150, 197]),\n",
              "   array([128,  95]),\n",
              "   array([102, 199]),\n",
              "   array([157, 197]),\n",
              "   array([174, 197])],\n",
              "  [array([ 68, 131]),\n",
              "   array([ 36, 131]),\n",
              "   array([13, 70]),\n",
              "   array([ 35, 132]),\n",
              "   array([ 19, 139]),\n",
              "   array([ 31, 118]),\n",
              "   array([ 27, 149]),\n",
              "   array([ 91, 183]),\n",
              "   array([ 32, 162]),\n",
              "   array([86, 93]),\n",
              "   array([ 56, 121]),\n",
              "   array([ 34, 124]),\n",
              "   array([104, 116]),\n",
              "   array([74, 88]),\n",
              "   array([ 14, 116]),\n",
              "   array([ 72, 189]),\n",
              "   array([ 49, 122]),\n",
              "   array([ 94, 153]),\n",
              "   array([ 36, 126]),\n",
              "   array([ 6, 99]),\n",
              "   array([ 59, 152]),\n",
              "   array([ 41, 106]),\n",
              "   array([ 69, 164]),\n",
              "   array([ 73, 105]),\n",
              "   array([ 97, 144]),\n",
              "   array([ 30, 166]),\n",
              "   array([ 87, 169]),\n",
              "   array([ 13, 169]),\n",
              "   array([ 65, 141]),\n",
              "   array([ 67, 163]),\n",
              "   array([38, 78]),\n",
              "   array([ 12, 107]),\n",
              "   array([ 67, 157]),\n",
              "   array([ 44, 108])],\n",
              "  [array([85, 31]),\n",
              "   array([57, 57]),\n",
              "   array([0, 3]),\n",
              "   array([99, 81]),\n",
              "   array([38, 47]),\n",
              "   array([69, 39]),\n",
              "   array([55, 44]),\n",
              "   array([107,   6]),\n",
              "   array([ 3, 20]),\n",
              "   array([97, 21]),\n",
              "   array([147,  11]),\n",
              "   array([15, 22]),\n",
              "   array([102,   4]),\n",
              "   array([94, 68]),\n",
              "   array([110,  28]),\n",
              "   array([62, 11]),\n",
              "   array([196,  10]),\n",
              "   array([165,  47]),\n",
              "   array([ 3, 61]),\n",
              "   array([66, 65]),\n",
              "   array([78, 31]),\n",
              "   array([171,  14]),\n",
              "   array([63, 69]),\n",
              "   array([159,  56]),\n",
              "   array([4, 3]),\n",
              "   array([165,  25]),\n",
              "   array([82, 49]),\n",
              "   array([ 0, 22]),\n",
              "   array([199,   2]),\n",
              "   array([115,  73]),\n",
              "   array([55,  6]),\n",
              "   array([ 4, 26]),\n",
              "   array([46, 31]),\n",
              "   array([42, 11])]],\n",
              " 2604.271305147059)"
            ]
          },
          "metadata": {},
          "execution_count": 37
        }
      ]
    },
    {
      "cell_type": "code",
      "source": [
        "best_cen , best_clusters , best_loss =k_mean(df,3,10)"
      ],
      "metadata": {
        "id": "vfKaZvPRqGn5"
      },
      "execution_count": null,
      "outputs": []
    },
    {
      "cell_type": "code",
      "source": [
        "best_cen"
      ],
      "metadata": {
        "colab": {
          "base_uri": "https://localhost:8080/"
        },
        "id": "HcSmb3-00rSk",
        "outputId": "d71fac5c-d1aa-4fd3-c8dc-c5938f207870"
      },
      "execution_count": null,
      "outputs": [
        {
          "output_type": "execute_result",
          "data": {
            "text/plain": [
              "[array([83.33333333, 31.3030303 ]),\n",
              " array([ 43.74193548, 127.61290323]),\n",
              " array([149.52777778, 152.11111111])]"
            ]
          },
          "metadata": {},
          "execution_count": 43
        }
      ]
    },
    {
      "cell_type": "code",
      "source": [
        "best_cen , best_clusters , best_loss =k_mean(df,3,10)"
      ],
      "metadata": {
        "id": "HKywxB337e0D"
      },
      "execution_count": null,
      "outputs": []
    },
    {
      "cell_type": "code",
      "source": [
        "loss_list = []\n",
        "for k in range(3,16):\n",
        "  best_cen , best_clusters , best_loss =k_mean(df,k,10)\n",
        "\n",
        "  loss_list.append(best_loss)"
      ],
      "metadata": {
        "id": "jgH9gEW41IeL",
        "colab": {
          "base_uri": "https://localhost:8080/"
        },
        "outputId": "7ac079ec-8642-438a-d767-7419f18331f0"
      },
      "execution_count": null,
      "outputs": [
        {
          "output_type": "stream",
          "name": "stderr",
          "text": [
            "/usr/local/lib/python3.8/dist-packages/numpy/core/fromnumeric.py:3440: RuntimeWarning: Mean of empty slice.\n",
            "  return _methods._mean(a, axis=axis, dtype=dtype,\n",
            "/usr/local/lib/python3.8/dist-packages/numpy/core/_methods.py:189: RuntimeWarning: invalid value encountered in double_scalars\n",
            "  ret = ret.dtype.type(ret / rcount)\n"
          ]
        }
      ]
    },
    {
      "cell_type": "code",
      "source": [
        "n=len(loss_list)\n",
        "n"
      ],
      "metadata": {
        "colab": {
          "base_uri": "https://localhost:8080/"
        },
        "id": "xstgboZD08z2",
        "outputId": "76be5463-10e1-4712-a838-2fb729648db8"
      },
      "execution_count": null,
      "outputs": [
        {
          "output_type": "execute_result",
          "data": {
            "text/plain": [
              "13"
            ]
          },
          "metadata": {},
          "execution_count": 77
        }
      ]
    },
    {
      "cell_type": "code",
      "source": [
        "n=len(loss_list)\n",
        "fig, ax = plt.subplots(figsize=(6, 10))\n",
        "plt.plot(range(3,n+3), loss_list, linewidth=3)\n",
        "ax.set_xlabel(r'Number of clusters', fontsize=14)\n",
        "ax.set_ylabel(r'Distortion', fontsize=14)\n",
        "plt.xticks(fontsize=12)\n",
        "plt.yticks(fontsize=12)\n",
        "plt.show()"
      ],
      "metadata": {
        "colab": {
          "base_uri": "https://localhost:8080/",
          "height": 613
        },
        "id": "g2yrBWUKjw_g",
        "outputId": "6e68f0cb-1415-494b-92bb-d9cec7df56f3"
      },
      "execution_count": null,
      "outputs": [
        {
          "output_type": "display_data",
          "data": {
            "text/plain": [
              "<Figure size 432x720 with 1 Axes>"
            ],
            "image/png": "[encoded data removed]"
          },
          "metadata": {
            "needs_background": "light"
          }
        }
      ]
    },
    {
      "cell_type": "code",
      "source": [
        "for i in range(0,len(best_cen)):\n",
        "  sns.scatterplot(x=[X[0] for X in best_clusters[i]],\n",
        "                  y=[X[1] for X in best_clusters[i]]\n",
        "                  )\n",
        "\n",
        "  plt.plot([x for x, _ in best_cen],\n",
        "          [y for _, y in best_cen],\n",
        "          '+',\n",
        "          color = 'r',\n",
        "          markersize=20\n",
        "          )\n",
        "plt.show()"
      ],
      "metadata": {
        "colab": {
          "base_uri": "https://localhost:8080/",
          "height": 265
        },
        "id": "F5m89Vlt-BT9",
        "outputId": "17d4fa9e-ad8d-4f4c-c53d-07310acc7da9"
      },
      "execution_count": null,
      "outputs": [
        {
          "output_type": "display_data",
          "data": {
            "text/plain": [
              "<Figure size 432x288 with 1 Axes>"
            ],
            "image/png": "[encoded data removed]"
          },
          "metadata": {
            "needs_background": "light"
          }
        }
      ]
    },
    {
      "cell_type": "code",
      "source": [],
      "metadata": {
        "id": "2HtwVAOn3lii"
      },
      "execution_count": null,
      "outputs": []
    }
  ]
}